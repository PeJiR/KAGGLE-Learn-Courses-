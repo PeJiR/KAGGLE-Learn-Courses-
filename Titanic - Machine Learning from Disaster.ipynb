{
 "cells": [
  {
   "cell_type": "code",
   "execution_count": 1,
   "id": "5972dafc",
   "metadata": {
    "_cell_guid": "b1076dfc-b9ad-4769-8c92-a6c4dae69d19",
    "_uuid": "8f2839f25d086af736a60e9eeb907d3b93b6e0e5",
    "execution": {
     "iopub.execute_input": "2023-10-15T18:43:59.926315Z",
     "iopub.status.busy": "2023-10-15T18:43:59.925676Z",
     "iopub.status.idle": "2023-10-15T18:44:02.413767Z",
     "shell.execute_reply": "2023-10-15T18:44:02.412646Z"
    },
    "papermill": {
     "duration": 2.499763,
     "end_time": "2023-10-15T18:44:02.416180",
     "exception": false,
     "start_time": "2023-10-15T18:43:59.916417",
     "status": "completed"
    },
    "tags": []
   },
   "outputs": [],
   "source": [
    "import os\n",
    "\n",
    "import pandas as pd\n",
    "import numpy as np\n",
    "import matplotlib.pyplot as plt\n",
    "\n",
    "import seaborn as sns\n",
    "\n",
    "from sklearn.impute import SimpleImputer\n",
    "from sklearn.preprocessing import OneHotEncoder\n",
    "from sklearn.compose import ColumnTransformer\n",
    "from sklearn.pipeline import Pipeline\n",
    "from sklearn.ensemble import RandomForestClassifier\n",
    "from sklearn.model_selection import cross_val_score\n"
   ]
  },
  {
   "cell_type": "code",
   "execution_count": 2,
   "id": "bd716275",
   "metadata": {
    "execution": {
     "iopub.execute_input": "2023-10-15T18:44:02.431394Z",
     "iopub.status.busy": "2023-10-15T18:44:02.430907Z",
     "iopub.status.idle": "2023-10-15T18:44:02.439219Z",
     "shell.execute_reply": "2023-10-15T18:44:02.438108Z"
    },
    "papermill": {
     "duration": 0.017875,
     "end_time": "2023-10-15T18:44:02.441066",
     "exception": false,
     "start_time": "2023-10-15T18:44:02.423191",
     "status": "completed"
    },
    "tags": []
   },
   "outputs": [],
   "source": [
    "%config Completer.use_jedi = False"
   ]
  },
  {
   "cell_type": "markdown",
   "id": "da34178c",
   "metadata": {
    "papermill": {
     "duration": 0.006467,
     "end_time": "2023-10-15T18:44:02.454453",
     "exception": false,
     "start_time": "2023-10-15T18:44:02.447986",
     "status": "completed"
    },
    "tags": []
   },
   "source": [
    "# 1.Loading the dataset"
   ]
  },
  {
   "cell_type": "code",
   "execution_count": 3,
   "id": "8ae65f4c",
   "metadata": {
    "execution": {
     "iopub.execute_input": "2023-10-15T18:44:02.469176Z",
     "iopub.status.busy": "2023-10-15T18:44:02.468568Z",
     "iopub.status.idle": "2023-10-15T18:44:02.512244Z",
     "shell.execute_reply": "2023-10-15T18:44:02.511545Z"
    },
    "papermill": {
     "duration": 0.052932,
     "end_time": "2023-10-15T18:44:02.513915",
     "exception": false,
     "start_time": "2023-10-15T18:44:02.460983",
     "status": "completed"
    },
    "tags": []
   },
   "outputs": [
    {
     "data": {
      "text/html": [
       "<div>\n",
       "<style scoped>\n",
       "    .dataframe tbody tr th:only-of-type {\n",
       "        vertical-align: middle;\n",
       "    }\n",
       "\n",
       "    .dataframe tbody tr th {\n",
       "        vertical-align: top;\n",
       "    }\n",
       "\n",
       "    .dataframe thead th {\n",
       "        text-align: right;\n",
       "    }\n",
       "</style>\n",
       "<table border=\"1\" class=\"dataframe\">\n",
       "  <thead>\n",
       "    <tr style=\"text-align: right;\">\n",
       "      <th></th>\n",
       "      <th>PassengerId</th>\n",
       "      <th>Survived</th>\n",
       "      <th>Pclass</th>\n",
       "      <th>Name</th>\n",
       "      <th>Sex</th>\n",
       "      <th>Age</th>\n",
       "      <th>SibSp</th>\n",
       "      <th>Parch</th>\n",
       "      <th>Ticket</th>\n",
       "      <th>Fare</th>\n",
       "      <th>Cabin</th>\n",
       "      <th>Embarked</th>\n",
       "    </tr>\n",
       "  </thead>\n",
       "  <tbody>\n",
       "    <tr>\n",
       "      <th>0</th>\n",
       "      <td>1</td>\n",
       "      <td>0</td>\n",
       "      <td>3</td>\n",
       "      <td>Braund, Mr. Owen Harris</td>\n",
       "      <td>male</td>\n",
       "      <td>22.0</td>\n",
       "      <td>1</td>\n",
       "      <td>0</td>\n",
       "      <td>A/5 21171</td>\n",
       "      <td>7.2500</td>\n",
       "      <td>NaN</td>\n",
       "      <td>S</td>\n",
       "    </tr>\n",
       "    <tr>\n",
       "      <th>1</th>\n",
       "      <td>2</td>\n",
       "      <td>1</td>\n",
       "      <td>1</td>\n",
       "      <td>Cumings, Mrs. John Bradley (Florence Briggs Th...</td>\n",
       "      <td>female</td>\n",
       "      <td>38.0</td>\n",
       "      <td>1</td>\n",
       "      <td>0</td>\n",
       "      <td>PC 17599</td>\n",
       "      <td>71.2833</td>\n",
       "      <td>C85</td>\n",
       "      <td>C</td>\n",
       "    </tr>\n",
       "    <tr>\n",
       "      <th>2</th>\n",
       "      <td>3</td>\n",
       "      <td>1</td>\n",
       "      <td>3</td>\n",
       "      <td>Heikkinen, Miss. Laina</td>\n",
       "      <td>female</td>\n",
       "      <td>26.0</td>\n",
       "      <td>0</td>\n",
       "      <td>0</td>\n",
       "      <td>STON/O2. 3101282</td>\n",
       "      <td>7.9250</td>\n",
       "      <td>NaN</td>\n",
       "      <td>S</td>\n",
       "    </tr>\n",
       "    <tr>\n",
       "      <th>3</th>\n",
       "      <td>4</td>\n",
       "      <td>1</td>\n",
       "      <td>1</td>\n",
       "      <td>Futrelle, Mrs. Jacques Heath (Lily May Peel)</td>\n",
       "      <td>female</td>\n",
       "      <td>35.0</td>\n",
       "      <td>1</td>\n",
       "      <td>0</td>\n",
       "      <td>113803</td>\n",
       "      <td>53.1000</td>\n",
       "      <td>C123</td>\n",
       "      <td>S</td>\n",
       "    </tr>\n",
       "    <tr>\n",
       "      <th>4</th>\n",
       "      <td>5</td>\n",
       "      <td>0</td>\n",
       "      <td>3</td>\n",
       "      <td>Allen, Mr. William Henry</td>\n",
       "      <td>male</td>\n",
       "      <td>35.0</td>\n",
       "      <td>0</td>\n",
       "      <td>0</td>\n",
       "      <td>373450</td>\n",
       "      <td>8.0500</td>\n",
       "      <td>NaN</td>\n",
       "      <td>S</td>\n",
       "    </tr>\n",
       "  </tbody>\n",
       "</table>\n",
       "</div>"
      ],
      "text/plain": [
       "   PassengerId  Survived  Pclass  \\\n",
       "0            1         0       3   \n",
       "1            2         1       1   \n",
       "2            3         1       3   \n",
       "3            4         1       1   \n",
       "4            5         0       3   \n",
       "\n",
       "                                                Name     Sex   Age  SibSp  \\\n",
       "0                            Braund, Mr. Owen Harris    male  22.0      1   \n",
       "1  Cumings, Mrs. John Bradley (Florence Briggs Th...  female  38.0      1   \n",
       "2                             Heikkinen, Miss. Laina  female  26.0      0   \n",
       "3       Futrelle, Mrs. Jacques Heath (Lily May Peel)  female  35.0      1   \n",
       "4                           Allen, Mr. William Henry    male  35.0      0   \n",
       "\n",
       "   Parch            Ticket     Fare Cabin Embarked  \n",
       "0      0         A/5 21171   7.2500   NaN        S  \n",
       "1      0          PC 17599  71.2833   C85        C  \n",
       "2      0  STON/O2. 3101282   7.9250   NaN        S  \n",
       "3      0            113803  53.1000  C123        S  \n",
       "4      0            373450   8.0500   NaN        S  "
      ]
     },
     "execution_count": 3,
     "metadata": {},
     "output_type": "execute_result"
    }
   ],
   "source": [
    "train_data = pd.read_csv(\"/kaggle/input/titanic/train.csv\")\n",
    "train_data.head()"
   ]
  },
  {
   "cell_type": "code",
   "execution_count": 4,
   "id": "07265b3c",
   "metadata": {
    "execution": {
     "iopub.execute_input": "2023-10-15T18:44:02.529622Z",
     "iopub.status.busy": "2023-10-15T18:44:02.528997Z",
     "iopub.status.idle": "2023-10-15T18:44:02.549118Z",
     "shell.execute_reply": "2023-10-15T18:44:02.548427Z"
    },
    "papermill": {
     "duration": 0.029867,
     "end_time": "2023-10-15T18:44:02.550847",
     "exception": false,
     "start_time": "2023-10-15T18:44:02.520980",
     "status": "completed"
    },
    "tags": []
   },
   "outputs": [
    {
     "data": {
      "text/html": [
       "<div>\n",
       "<style scoped>\n",
       "    .dataframe tbody tr th:only-of-type {\n",
       "        vertical-align: middle;\n",
       "    }\n",
       "\n",
       "    .dataframe tbody tr th {\n",
       "        vertical-align: top;\n",
       "    }\n",
       "\n",
       "    .dataframe thead th {\n",
       "        text-align: right;\n",
       "    }\n",
       "</style>\n",
       "<table border=\"1\" class=\"dataframe\">\n",
       "  <thead>\n",
       "    <tr style=\"text-align: right;\">\n",
       "      <th></th>\n",
       "      <th>PassengerId</th>\n",
       "      <th>Pclass</th>\n",
       "      <th>Name</th>\n",
       "      <th>Sex</th>\n",
       "      <th>Age</th>\n",
       "      <th>SibSp</th>\n",
       "      <th>Parch</th>\n",
       "      <th>Ticket</th>\n",
       "      <th>Fare</th>\n",
       "      <th>Cabin</th>\n",
       "      <th>Embarked</th>\n",
       "    </tr>\n",
       "  </thead>\n",
       "  <tbody>\n",
       "    <tr>\n",
       "      <th>0</th>\n",
       "      <td>892</td>\n",
       "      <td>3</td>\n",
       "      <td>Kelly, Mr. James</td>\n",
       "      <td>male</td>\n",
       "      <td>34.5</td>\n",
       "      <td>0</td>\n",
       "      <td>0</td>\n",
       "      <td>330911</td>\n",
       "      <td>7.8292</td>\n",
       "      <td>NaN</td>\n",
       "      <td>Q</td>\n",
       "    </tr>\n",
       "    <tr>\n",
       "      <th>1</th>\n",
       "      <td>893</td>\n",
       "      <td>3</td>\n",
       "      <td>Wilkes, Mrs. James (Ellen Needs)</td>\n",
       "      <td>female</td>\n",
       "      <td>47.0</td>\n",
       "      <td>1</td>\n",
       "      <td>0</td>\n",
       "      <td>363272</td>\n",
       "      <td>7.0000</td>\n",
       "      <td>NaN</td>\n",
       "      <td>S</td>\n",
       "    </tr>\n",
       "    <tr>\n",
       "      <th>2</th>\n",
       "      <td>894</td>\n",
       "      <td>2</td>\n",
       "      <td>Myles, Mr. Thomas Francis</td>\n",
       "      <td>male</td>\n",
       "      <td>62.0</td>\n",
       "      <td>0</td>\n",
       "      <td>0</td>\n",
       "      <td>240276</td>\n",
       "      <td>9.6875</td>\n",
       "      <td>NaN</td>\n",
       "      <td>Q</td>\n",
       "    </tr>\n",
       "    <tr>\n",
       "      <th>3</th>\n",
       "      <td>895</td>\n",
       "      <td>3</td>\n",
       "      <td>Wirz, Mr. Albert</td>\n",
       "      <td>male</td>\n",
       "      <td>27.0</td>\n",
       "      <td>0</td>\n",
       "      <td>0</td>\n",
       "      <td>315154</td>\n",
       "      <td>8.6625</td>\n",
       "      <td>NaN</td>\n",
       "      <td>S</td>\n",
       "    </tr>\n",
       "    <tr>\n",
       "      <th>4</th>\n",
       "      <td>896</td>\n",
       "      <td>3</td>\n",
       "      <td>Hirvonen, Mrs. Alexander (Helga E Lindqvist)</td>\n",
       "      <td>female</td>\n",
       "      <td>22.0</td>\n",
       "      <td>1</td>\n",
       "      <td>1</td>\n",
       "      <td>3101298</td>\n",
       "      <td>12.2875</td>\n",
       "      <td>NaN</td>\n",
       "      <td>S</td>\n",
       "    </tr>\n",
       "  </tbody>\n",
       "</table>\n",
       "</div>"
      ],
      "text/plain": [
       "   PassengerId  Pclass                                          Name     Sex  \\\n",
       "0          892       3                              Kelly, Mr. James    male   \n",
       "1          893       3              Wilkes, Mrs. James (Ellen Needs)  female   \n",
       "2          894       2                     Myles, Mr. Thomas Francis    male   \n",
       "3          895       3                              Wirz, Mr. Albert    male   \n",
       "4          896       3  Hirvonen, Mrs. Alexander (Helga E Lindqvist)  female   \n",
       "\n",
       "    Age  SibSp  Parch   Ticket     Fare Cabin Embarked  \n",
       "0  34.5      0      0   330911   7.8292   NaN        Q  \n",
       "1  47.0      1      0   363272   7.0000   NaN        S  \n",
       "2  62.0      0      0   240276   9.6875   NaN        Q  \n",
       "3  27.0      0      0   315154   8.6625   NaN        S  \n",
       "4  22.0      1      1  3101298  12.2875   NaN        S  "
      ]
     },
     "execution_count": 4,
     "metadata": {},
     "output_type": "execute_result"
    }
   ],
   "source": [
    "test_data = pd.read_csv(\"/kaggle/input/titanic/test.csv\")\n",
    "test_data.head()"
   ]
  },
  {
   "cell_type": "markdown",
   "id": "29c984f9",
   "metadata": {
    "papermill": {
     "duration": 0.006846,
     "end_time": "2023-10-15T18:44:02.564972",
     "exception": false,
     "start_time": "2023-10-15T18:44:02.558126",
     "status": "completed"
    },
    "tags": []
   },
   "source": [
    "# 2.Exploratory data analysis"
   ]
  },
  {
   "cell_type": "markdown",
   "id": "147434e9",
   "metadata": {
    "papermill": {
     "duration": 0.006762,
     "end_time": "2023-10-15T18:44:02.578971",
     "exception": false,
     "start_time": "2023-10-15T18:44:02.572209",
     "status": "completed"
    },
    "tags": []
   },
   "source": [
    "# 2.1 Check missing values"
   ]
  },
  {
   "cell_type": "markdown",
   "id": "85436834",
   "metadata": {
    "papermill": {
     "duration": 0.006834,
     "end_time": "2023-10-15T18:44:02.592975",
     "exception": false,
     "start_time": "2023-10-15T18:44:02.586141",
     "status": "completed"
    },
    "tags": []
   },
   "source": [
    "## Check missing values"
   ]
  },
  {
   "cell_type": "code",
   "execution_count": 5,
   "id": "3473b53d",
   "metadata": {
    "execution": {
     "iopub.execute_input": "2023-10-15T18:44:02.608638Z",
     "iopub.status.busy": "2023-10-15T18:44:02.607706Z",
     "iopub.status.idle": "2023-10-15T18:44:02.612968Z",
     "shell.execute_reply": "2023-10-15T18:44:02.611971Z"
    },
    "papermill": {
     "duration": 0.015099,
     "end_time": "2023-10-15T18:44:02.614846",
     "exception": false,
     "start_time": "2023-10-15T18:44:02.599747",
     "status": "completed"
    },
    "tags": []
   },
   "outputs": [],
   "source": [
    "def plot_missing_data(dataset,tittle):\n",
    "    fig,ax = plt.subplots(figsize=(5,5))\n",
    "    sns.heatmap(dataset.isnull(),cbar = False)"
   ]
  },
  {
   "cell_type": "code",
   "execution_count": 6,
   "id": "2728ab63",
   "metadata": {
    "execution": {
     "iopub.execute_input": "2023-10-15T18:44:02.630653Z",
     "iopub.status.busy": "2023-10-15T18:44:02.630111Z",
     "iopub.status.idle": "2023-10-15T18:44:02.656969Z",
     "shell.execute_reply": "2023-10-15T18:44:02.655983Z"
    },
    "papermill": {
     "duration": 0.037148,
     "end_time": "2023-10-15T18:44:02.659063",
     "exception": false,
     "start_time": "2023-10-15T18:44:02.621915",
     "status": "completed"
    },
    "tags": []
   },
   "outputs": [
    {
     "name": "stdout",
     "output_type": "stream",
     "text": [
      "<class 'pandas.core.frame.DataFrame'>\n",
      "RangeIndex: 891 entries, 0 to 890\n",
      "Data columns (total 12 columns):\n",
      " #   Column       Non-Null Count  Dtype  \n",
      "---  ------       --------------  -----  \n",
      " 0   PassengerId  891 non-null    int64  \n",
      " 1   Survived     891 non-null    int64  \n",
      " 2   Pclass       891 non-null    int64  \n",
      " 3   Name         891 non-null    object \n",
      " 4   Sex          891 non-null    object \n",
      " 5   Age          714 non-null    float64\n",
      " 6   SibSp        891 non-null    int64  \n",
      " 7   Parch        891 non-null    int64  \n",
      " 8   Ticket       891 non-null    object \n",
      " 9   Fare         891 non-null    float64\n",
      " 10  Cabin        204 non-null    object \n",
      " 11  Embarked     889 non-null    object \n",
      "dtypes: float64(2), int64(5), object(5)\n",
      "memory usage: 83.7+ KB\n"
     ]
    }
   ],
   "source": [
    "train_data.info()"
   ]
  },
  {
   "cell_type": "code",
   "execution_count": 7,
   "id": "9bf8579b",
   "metadata": {
    "execution": {
     "iopub.execute_input": "2023-10-15T18:44:02.675448Z",
     "iopub.status.busy": "2023-10-15T18:44:02.674636Z",
     "iopub.status.idle": "2023-10-15T18:44:03.106326Z",
     "shell.execute_reply": "2023-10-15T18:44:03.105460Z"
    },
    "papermill": {
     "duration": 0.44158,
     "end_time": "2023-10-15T18:44:03.108068",
     "exception": false,
     "start_time": "2023-10-15T18:44:02.666488",
     "status": "completed"
    },
    "tags": []
   },
   "outputs": [
    {
     "data": {
      "image/png": "[encoded data removed]",
      "text/plain": [
       "<Figure size 500x500 with 1 Axes>"
      ]
     },
     "metadata": {},
     "output_type": "display_data"
    }
   ],
   "source": [
    "plot_missing_data(train_data, \"Training Dataset\")"
   ]
  },
  {
   "cell_type": "code",
   "execution_count": 8,
   "id": "34f228b8",
   "metadata": {
    "execution": {
     "iopub.execute_input": "2023-10-15T18:44:03.126033Z",
     "iopub.status.busy": "2023-10-15T18:44:03.125434Z",
     "iopub.status.idle": "2023-10-15T18:44:03.135351Z",
     "shell.execute_reply": "2023-10-15T18:44:03.134468Z"
    },
    "papermill": {
     "duration": 0.021249,
     "end_time": "2023-10-15T18:44:03.137552",
     "exception": false,
     "start_time": "2023-10-15T18:44:03.116303",
     "status": "completed"
    },
    "tags": []
   },
   "outputs": [
    {
     "name": "stdout",
     "output_type": "stream",
     "text": [
      "<class 'pandas.core.frame.DataFrame'>\n",
      "RangeIndex: 418 entries, 0 to 417\n",
      "Data columns (total 11 columns):\n",
      " #   Column       Non-Null Count  Dtype  \n",
      "---  ------       --------------  -----  \n",
      " 0   PassengerId  418 non-null    int64  \n",
      " 1   Pclass       418 non-null    int64  \n",
      " 2   Name         418 non-null    object \n",
      " 3   Sex          418 non-null    object \n",
      " 4   Age          332 non-null    float64\n",
      " 5   SibSp        418 non-null    int64  \n",
      " 6   Parch        418 non-null    int64  \n",
      " 7   Ticket       418 non-null    object \n",
      " 8   Fare         417 non-null    float64\n",
      " 9   Cabin        91 non-null     object \n",
      " 10  Embarked     418 non-null    object \n",
      "dtypes: float64(2), int64(4), object(5)\n",
      "memory usage: 36.0+ KB\n"
     ]
    }
   ],
   "source": [
    "test_data.info()"
   ]
  },
  {
   "cell_type": "code",
   "execution_count": 9,
   "id": "5b4c7558",
   "metadata": {
    "execution": {
     "iopub.execute_input": "2023-10-15T18:44:03.155091Z",
     "iopub.status.busy": "2023-10-15T18:44:03.154704Z",
     "iopub.status.idle": "2023-10-15T18:44:03.545637Z",
     "shell.execute_reply": "2023-10-15T18:44:03.544575Z"
    },
    "papermill": {
     "duration": 0.402347,
     "end_time": "2023-10-15T18:44:03.547914",
     "exception": false,
     "start_time": "2023-10-15T18:44:03.145567",
     "status": "completed"
    },
    "tags": []
   },
   "outputs": [
    {
     "data": {
      "image/png": "[encoded data removed]",
      "text/plain": [
       "<Figure size 500x500 with 1 Axes>"
      ]
     },
     "metadata": {},
     "output_type": "display_data"
    }
   ],
   "source": [
    "plot_missing_data(test_data, \"Test Dataset\")"
   ]
  },
  {
   "cell_type": "markdown",
   "id": "99a583ec",
   "metadata": {
    "papermill": {
     "duration": 0.008414,
     "end_time": "2023-10-15T18:44:03.565083",
     "exception": false,
     "start_time": "2023-10-15T18:44:03.556669",
     "status": "completed"
    },
    "tags": []
   },
   "source": [
    "### Obeservtions:\n",
    "\n",
    "From the blots above we can see that both training as well as test dataset contain features with missing values. However, the most sparse features are Age as well as Cabin.\n",
    "\n",
    "As we do not know the how much information the features yield, further investigation is needed."
   ]
  },
  {
   "cell_type": "code",
   "execution_count": 10,
   "id": "a8955963",
   "metadata": {
    "execution": {
     "iopub.execute_input": "2023-10-15T18:44:03.584012Z",
     "iopub.status.busy": "2023-10-15T18:44:03.582999Z",
     "iopub.status.idle": "2023-10-15T18:44:03.589105Z",
     "shell.execute_reply": "2023-10-15T18:44:03.588449Z"
    },
    "papermill": {
     "duration": 0.017463,
     "end_time": "2023-10-15T18:44:03.590884",
     "exception": false,
     "start_time": "2023-10-15T18:44:03.573421",
     "status": "completed"
    },
    "tags": []
   },
   "outputs": [],
   "source": [
    "def bar_chart_stacked(dataset, feature, stacked = True):\n",
    "    survived = dataset[dataset['Survived']==1][feature].value_counts()\n",
    "    dead = dataset[dataset['Survived']==0][feature].value_counts()\n",
    "    df_survived_dead = pd.DataFrame([survived,dead])\n",
    "    df_survived_dead.index = ['Passengers Survived','Passengers Died']\n",
    "    ax = df_survived_dead.plot(kind='bar',stacked=stacked, figsize=(5,5))\n"
   ]
  },
  {
   "cell_type": "markdown",
   "id": "b1c512ab",
   "metadata": {
    "papermill": {
     "duration": 0.007903,
     "end_time": "2023-10-15T18:44:03.607239",
     "exception": false,
     "start_time": "2023-10-15T18:44:03.599336",
     "status": "completed"
    },
    "tags": []
   },
   "source": [
    "## 2.2 Analyse Feature Survived\n",
    "\n",
    "1.Let's try to understand how many people survived overall:"
   ]
  },
  {
   "cell_type": "code",
   "execution_count": 11,
   "id": "0b3cb9fe",
   "metadata": {
    "execution": {
     "iopub.execute_input": "2023-10-15T18:44:03.625848Z",
     "iopub.status.busy": "2023-10-15T18:44:03.624900Z",
     "iopub.status.idle": "2023-10-15T18:44:03.632522Z",
     "shell.execute_reply": "2023-10-15T18:44:03.631716Z"
    },
    "papermill": {
     "duration": 0.018704,
     "end_time": "2023-10-15T18:44:03.634278",
     "exception": false,
     "start_time": "2023-10-15T18:44:03.615574",
     "status": "completed"
    },
    "tags": []
   },
   "outputs": [
    {
     "data": {
      "text/plain": [
       "Survived\n",
       "0    549\n",
       "1    342\n",
       "Name: count, dtype: int64"
      ]
     },
     "execution_count": 11,
     "metadata": {},
     "output_type": "execute_result"
    }
   ],
   "source": [
    "train_data[\"Survived\"].value_counts()"
   ]
  },
  {
   "cell_type": "code",
   "execution_count": 12,
   "id": "a6f0993c",
   "metadata": {
    "execution": {
     "iopub.execute_input": "2023-10-15T18:44:03.653065Z",
     "iopub.status.busy": "2023-10-15T18:44:03.652182Z",
     "iopub.status.idle": "2023-10-15T18:44:03.660295Z",
     "shell.execute_reply": "2023-10-15T18:44:03.659348Z"
    },
    "papermill": {
     "duration": 0.019487,
     "end_time": "2023-10-15T18:44:03.662197",
     "exception": false,
     "start_time": "2023-10-15T18:44:03.642710",
     "status": "completed"
    },
    "tags": []
   },
   "outputs": [
    {
     "data": {
      "text/plain": [
       "Survived\n",
       "0    0.616162\n",
       "1    0.383838\n",
       "Name: proportion, dtype: float64"
      ]
     },
     "execution_count": 12,
     "metadata": {},
     "output_type": "execute_result"
    }
   ],
   "source": [
    "train_data[\"Survived\"].value_counts(normalize = True)"
   ]
  },
  {
   "cell_type": "code",
   "execution_count": 13,
   "id": "b5d64198",
   "metadata": {
    "execution": {
     "iopub.execute_input": "2023-10-15T18:44:03.680797Z",
     "iopub.status.busy": "2023-10-15T18:44:03.680483Z",
     "iopub.status.idle": "2023-10-15T18:44:03.921963Z",
     "shell.execute_reply": "2023-10-15T18:44:03.920856Z"
    },
    "papermill": {
     "duration": 0.253184,
     "end_time": "2023-10-15T18:44:03.924108",
     "exception": false,
     "start_time": "2023-10-15T18:44:03.670924",
     "status": "completed"
    },
    "tags": []
   },
   "outputs": [
    {
     "data": {
      "image/png": "[encoded data removed]",
      "text/plain": [
       "<Figure size 500x500 with 1 Axes>"
      ]
     },
     "metadata": {},
     "output_type": "display_data"
    }
   ],
   "source": [
    "bar_chart_stacked(train_data, \"Survived\")"
   ]
  },
  {
   "cell_type": "markdown",
   "id": "f661c4d6",
   "metadata": {
    "papermill": {
     "duration": 0.008816,
     "end_time": "2023-10-15T18:44:03.942305",
     "exception": false,
     "start_time": "2023-10-15T18:44:03.933489",
     "status": "completed"
    },
    "tags": []
   },
   "source": [
    "### Observations:\n",
    "\n",
    "As expected the majority of passengers in the training data died. Only 38% survived the disaster. So the training data suffers from data imbalance but it is not severe which is why I will not cosider techniques like sampling to tackle the imbalance."
   ]
  },
  {
   "cell_type": "markdown",
   "id": "6e35dcd9",
   "metadata": {
    "papermill": {
     "duration": 0.008973,
     "end_time": "2023-10-15T18:44:03.960174",
     "exception": false,
     "start_time": "2023-10-15T18:44:03.951201",
     "status": "completed"
    },
    "tags": []
   },
   "source": [
    "## 2.3 Analyse Feature Sex"
   ]
  },
  {
   "cell_type": "code",
   "execution_count": 14,
   "id": "2aa025c6",
   "metadata": {
    "execution": {
     "iopub.execute_input": "2023-10-15T18:44:03.983581Z",
     "iopub.status.busy": "2023-10-15T18:44:03.983249Z",
     "iopub.status.idle": "2023-10-15T18:44:03.991943Z",
     "shell.execute_reply": "2023-10-15T18:44:03.990937Z"
    },
    "papermill": {
     "duration": 0.020946,
     "end_time": "2023-10-15T18:44:03.993982",
     "exception": false,
     "start_time": "2023-10-15T18:44:03.973036",
     "status": "completed"
    },
    "tags": []
   },
   "outputs": [
    {
     "data": {
      "text/html": [
       "<div>\n",
       "<style scoped>\n",
       "    .dataframe tbody tr th:only-of-type {\n",
       "        vertical-align: middle;\n",
       "    }\n",
       "\n",
       "    .dataframe tbody tr th {\n",
       "        vertical-align: top;\n",
       "    }\n",
       "\n",
       "    .dataframe thead th {\n",
       "        text-align: right;\n",
       "    }\n",
       "</style>\n",
       "<table border=\"1\" class=\"dataframe\">\n",
       "  <thead>\n",
       "    <tr style=\"text-align: right;\">\n",
       "      <th></th>\n",
       "      <th>count</th>\n",
       "    </tr>\n",
       "    <tr>\n",
       "      <th>Sex</th>\n",
       "      <th></th>\n",
       "    </tr>\n",
       "  </thead>\n",
       "  <tbody>\n",
       "    <tr>\n",
       "      <th>male</th>\n",
       "      <td>577</td>\n",
       "    </tr>\n",
       "    <tr>\n",
       "      <th>female</th>\n",
       "      <td>314</td>\n",
       "    </tr>\n",
       "  </tbody>\n",
       "</table>\n",
       "</div>"
      ],
      "text/plain": [
       "        count\n",
       "Sex          \n",
       "male      577\n",
       "female    314"
      ]
     },
     "execution_count": 14,
     "metadata": {},
     "output_type": "execute_result"
    }
   ],
   "source": [
    "train_data[\"Sex\"].value_counts().to_frame()"
   ]
  },
  {
   "cell_type": "markdown",
   "id": "a732da9e",
   "metadata": {
    "papermill": {
     "duration": 0.008706,
     "end_time": "2023-10-15T18:44:04.011921",
     "exception": false,
     "start_time": "2023-10-15T18:44:04.003215",
     "status": "completed"
    },
    "tags": []
   },
   "source": [
    "### Observation:\n",
    "As the majority of passenger were we could infer that the majority of survivors were men.\n",
    "\n",
    "We can check this assumption by looking at the bar chart below:"
   ]
  },
  {
   "cell_type": "code",
   "execution_count": 15,
   "id": "524536bd",
   "metadata": {
    "execution": {
     "iopub.execute_input": "2023-10-15T18:44:04.083470Z",
     "iopub.status.busy": "2023-10-15T18:44:04.083133Z",
     "iopub.status.idle": "2023-10-15T18:44:04.325480Z",
     "shell.execute_reply": "2023-10-15T18:44:04.324461Z"
    },
    "papermill": {
     "duration": 0.255163,
     "end_time": "2023-10-15T18:44:04.327560",
     "exception": false,
     "start_time": "2023-10-15T18:44:04.072397",
     "status": "completed"
    },
    "tags": []
   },
   "outputs": [
    {
     "data": {
      "image/png": "[encoded data removed]",
      "text/plain": [
       "<Figure size 500x500 with 1 Axes>"
      ]
     },
     "metadata": {},
     "output_type": "display_data"
    }
   ],
   "source": [
    "bar_chart_stacked(train_data,\"Sex\")"
   ]
  },
  {
   "cell_type": "code",
   "execution_count": 16,
   "id": "67631718",
   "metadata": {
    "execution": {
     "iopub.execute_input": "2023-10-15T18:44:04.349382Z",
     "iopub.status.busy": "2023-10-15T18:44:04.348393Z",
     "iopub.status.idle": "2023-10-15T18:44:04.355146Z",
     "shell.execute_reply": "2023-10-15T18:44:04.354217Z"
    },
    "papermill": {
     "duration": 0.019615,
     "end_time": "2023-10-15T18:44:04.356926",
     "exception": false,
     "start_time": "2023-10-15T18:44:04.337311",
     "status": "completed"
    },
    "tags": []
   },
   "outputs": [
    {
     "name": "stdout",
     "output_type": "stream",
     "text": [
      "% of women who survived:  0.7420382165605095\n"
     ]
    }
   ],
   "source": [
    "women = train_data.loc[train_data.Sex == \"female\"][\"Survived\"]\n",
    "rate_women = sum(women)/len(women)\n",
    "\n",
    "print(\"% of women who survived: \", rate_women)"
   ]
  },
  {
   "cell_type": "code",
   "execution_count": 17,
   "id": "43e85190",
   "metadata": {
    "execution": {
     "iopub.execute_input": "2023-10-15T18:44:04.377860Z",
     "iopub.status.busy": "2023-10-15T18:44:04.377285Z",
     "iopub.status.idle": "2023-10-15T18:44:04.384093Z",
     "shell.execute_reply": "2023-10-15T18:44:04.382950Z"
    },
    "papermill": {
     "duration": 0.019368,
     "end_time": "2023-10-15T18:44:04.385929",
     "exception": false,
     "start_time": "2023-10-15T18:44:04.366561",
     "status": "completed"
    },
    "tags": []
   },
   "outputs": [
    {
     "name": "stdout",
     "output_type": "stream",
     "text": [
      "% of men who survived:  0.18890814558058924\n"
     ]
    }
   ],
   "source": [
    "men =train_data.loc[train_data.Sex == \"male\"][\"Survived\"]\n",
    "rate_men = sum(men)/len(men)\n",
    "\n",
    "print(\"% of men who survived: \", rate_men)"
   ]
  },
  {
   "cell_type": "code",
   "execution_count": 18,
   "id": "25f91eee",
   "metadata": {
    "execution": {
     "iopub.execute_input": "2023-10-15T18:44:04.406951Z",
     "iopub.status.busy": "2023-10-15T18:44:04.406248Z",
     "iopub.status.idle": "2023-10-15T18:44:04.418015Z",
     "shell.execute_reply": "2023-10-15T18:44:04.417102Z"
    },
    "papermill": {
     "duration": 0.024269,
     "end_time": "2023-10-15T18:44:04.419875",
     "exception": false,
     "start_time": "2023-10-15T18:44:04.395606",
     "status": "completed"
    },
    "tags": []
   },
   "outputs": [
    {
     "data": {
      "text/html": [
       "<div>\n",
       "<style scoped>\n",
       "    .dataframe tbody tr th:only-of-type {\n",
       "        vertical-align: middle;\n",
       "    }\n",
       "\n",
       "    .dataframe tbody tr th {\n",
       "        vertical-align: top;\n",
       "    }\n",
       "\n",
       "    .dataframe thead th {\n",
       "        text-align: right;\n",
       "    }\n",
       "</style>\n",
       "<table border=\"1\" class=\"dataframe\">\n",
       "  <thead>\n",
       "    <tr style=\"text-align: right;\">\n",
       "      <th></th>\n",
       "      <th>Survived</th>\n",
       "    </tr>\n",
       "    <tr>\n",
       "      <th>Sex</th>\n",
       "      <th></th>\n",
       "    </tr>\n",
       "  </thead>\n",
       "  <tbody>\n",
       "    <tr>\n",
       "      <th>female</th>\n",
       "      <td>0.742038</td>\n",
       "    </tr>\n",
       "    <tr>\n",
       "      <th>male</th>\n",
       "      <td>0.188908</td>\n",
       "    </tr>\n",
       "  </tbody>\n",
       "</table>\n",
       "</div>"
      ],
      "text/plain": [
       "        Survived\n",
       "Sex             \n",
       "female  0.742038\n",
       "male    0.188908"
      ]
     },
     "execution_count": 18,
     "metadata": {},
     "output_type": "execute_result"
    }
   ],
   "source": [
    "train_data.groupby(\"Sex\").Survived.mean().to_frame()\n",
    "                   "
   ]
  },
  {
   "cell_type": "markdown",
   "id": "8fe888a9",
   "metadata": {
    "papermill": {
     "duration": 0.009247,
     "end_time": "2023-10-15T18:44:04.438863",
     "exception": false,
     "start_time": "2023-10-15T18:44:04.429616",
     "status": "completed"
    },
    "tags": []
   },
   "source": [
    "### Observations:\n",
    "Here, we can see the even though the majority of the passenger were male, the majority of survivors were female. The key observation here is that the survival rate for female passengers is 4 times higher than the survival rate of male passengers."
   ]
  },
  {
   "cell_type": "markdown",
   "id": "915d3f65",
   "metadata": {
    "papermill": {
     "duration": 0.009359,
     "end_time": "2023-10-15T18:44:04.457689",
     "exception": false,
     "start_time": "2023-10-15T18:44:04.448330",
     "status": "completed"
    },
    "tags": []
   },
   "source": [
    "## 2.4 Analyse Feature Pclass:"
   ]
  },
  {
   "cell_type": "code",
   "execution_count": 19,
   "id": "ec6f3cc2",
   "metadata": {
    "execution": {
     "iopub.execute_input": "2023-10-15T18:44:04.479505Z",
     "iopub.status.busy": "2023-10-15T18:44:04.478826Z",
     "iopub.status.idle": "2023-10-15T18:44:04.728443Z",
     "shell.execute_reply": "2023-10-15T18:44:04.727341Z"
    },
    "papermill": {
     "duration": 0.263085,
     "end_time": "2023-10-15T18:44:04.730471",
     "exception": false,
     "start_time": "2023-10-15T18:44:04.467386",
     "status": "completed"
    },
    "tags": []
   },
   "outputs": [
    {
     "data": {
      "image/png": "[encoded data removed]",
      "text/plain": [
       "<Figure size 500x500 with 1 Axes>"
      ]
     },
     "metadata": {},
     "output_type": "display_data"
    }
   ],
   "source": [
    "bar_chart_stacked(train_data, \"Pclass\")"
   ]
  },
  {
   "cell_type": "code",
   "execution_count": 20,
   "id": "676a72ac",
   "metadata": {
    "execution": {
     "iopub.execute_input": "2023-10-15T18:44:04.753376Z",
     "iopub.status.busy": "2023-10-15T18:44:04.752377Z",
     "iopub.status.idle": "2023-10-15T18:44:04.775248Z",
     "shell.execute_reply": "2023-10-15T18:44:04.774248Z"
    },
    "papermill": {
     "duration": 0.036353,
     "end_time": "2023-10-15T18:44:04.777143",
     "exception": false,
     "start_time": "2023-10-15T18:44:04.740790",
     "status": "completed"
    },
    "tags": []
   },
   "outputs": [
    {
     "data": {
      "text/html": [
       "<div>\n",
       "<style scoped>\n",
       "    .dataframe tbody tr th:only-of-type {\n",
       "        vertical-align: middle;\n",
       "    }\n",
       "\n",
       "    .dataframe tbody tr th {\n",
       "        vertical-align: top;\n",
       "    }\n",
       "\n",
       "    .dataframe thead th {\n",
       "        text-align: right;\n",
       "    }\n",
       "</style>\n",
       "<table border=\"1\" class=\"dataframe\">\n",
       "  <thead>\n",
       "    <tr style=\"text-align: right;\">\n",
       "      <th>Pclass</th>\n",
       "      <th>1</th>\n",
       "      <th>2</th>\n",
       "      <th>3</th>\n",
       "    </tr>\n",
       "    <tr>\n",
       "      <th>Survived</th>\n",
       "      <th></th>\n",
       "      <th></th>\n",
       "      <th></th>\n",
       "    </tr>\n",
       "  </thead>\n",
       "  <tbody>\n",
       "    <tr>\n",
       "      <th>0</th>\n",
       "      <td>80</td>\n",
       "      <td>97</td>\n",
       "      <td>372</td>\n",
       "    </tr>\n",
       "    <tr>\n",
       "      <th>1</th>\n",
       "      <td>136</td>\n",
       "      <td>87</td>\n",
       "      <td>119</td>\n",
       "    </tr>\n",
       "  </tbody>\n",
       "</table>\n",
       "</div>"
      ],
      "text/plain": [
       "Pclass      1   2    3\n",
       "Survived              \n",
       "0          80  97  372\n",
       "1         136  87  119"
      ]
     },
     "execution_count": 20,
     "metadata": {},
     "output_type": "execute_result"
    }
   ],
   "source": [
    "pd.pivot_table(train_data, index = \"Survived\", columns = \"Pclass\", values =\"Ticket\", aggfunc =\"count\")"
   ]
  },
  {
   "cell_type": "code",
   "execution_count": 21,
   "id": "f87e42c7",
   "metadata": {
    "execution": {
     "iopub.execute_input": "2023-10-15T18:44:04.799969Z",
     "iopub.status.busy": "2023-10-15T18:44:04.799611Z",
     "iopub.status.idle": "2023-10-15T18:44:04.808486Z",
     "shell.execute_reply": "2023-10-15T18:44:04.807874Z"
    },
    "papermill": {
     "duration": 0.022352,
     "end_time": "2023-10-15T18:44:04.810192",
     "exception": false,
     "start_time": "2023-10-15T18:44:04.787840",
     "status": "completed"
    },
    "tags": []
   },
   "outputs": [
    {
     "data": {
      "text/html": [
       "<div>\n",
       "<style scoped>\n",
       "    .dataframe tbody tr th:only-of-type {\n",
       "        vertical-align: middle;\n",
       "    }\n",
       "\n",
       "    .dataframe tbody tr th {\n",
       "        vertical-align: top;\n",
       "    }\n",
       "\n",
       "    .dataframe thead th {\n",
       "        text-align: right;\n",
       "    }\n",
       "</style>\n",
       "<table border=\"1\" class=\"dataframe\">\n",
       "  <thead>\n",
       "    <tr style=\"text-align: right;\">\n",
       "      <th></th>\n",
       "      <th>Survived</th>\n",
       "    </tr>\n",
       "    <tr>\n",
       "      <th>Pclass</th>\n",
       "      <th></th>\n",
       "    </tr>\n",
       "  </thead>\n",
       "  <tbody>\n",
       "    <tr>\n",
       "      <th>1</th>\n",
       "      <td>0.629630</td>\n",
       "    </tr>\n",
       "    <tr>\n",
       "      <th>2</th>\n",
       "      <td>0.472826</td>\n",
       "    </tr>\n",
       "    <tr>\n",
       "      <th>3</th>\n",
       "      <td>0.242363</td>\n",
       "    </tr>\n",
       "  </tbody>\n",
       "</table>\n",
       "</div>"
      ],
      "text/plain": [
       "        Survived\n",
       "Pclass          \n",
       "1       0.629630\n",
       "2       0.472826\n",
       "3       0.242363"
      ]
     },
     "execution_count": 21,
     "metadata": {},
     "output_type": "execute_result"
    }
   ],
   "source": [
    "train_data.groupby([\"Pclass\"]).Survived.mean().to_frame()"
   ]
  },
  {
   "cell_type": "markdown",
   "id": "193fa809",
   "metadata": {
    "papermill": {
     "duration": 0.00994,
     "end_time": "2023-10-15T18:44:04.830530",
     "exception": false,
     "start_time": "2023-10-15T18:44:04.820590",
     "status": "completed"
    },
    "tags": []
   },
   "source": [
    "### Observations: \n",
    "\n",
    "From the plots and tables above it becomes clear that the Pclass is an important factor to consider.\n",
    "\n",
    "   -  Most passenger had class 3 tickets, yet only 24% of class 3 passengers survived.\n",
    "   - Almost 63% of the passenger from class 1 survived.\n",
    "   - Also approx 50% of the class 2 passenger survived.\n",
    "\n",
    "One questions that comes into mind is:\n",
    "\n",
    "Is the class or sex the deciding factor?"
   ]
  },
  {
   "cell_type": "code",
   "execution_count": 22,
   "id": "e68a0a90",
   "metadata": {
    "execution": {
     "iopub.execute_input": "2023-10-15T18:44:04.852761Z",
     "iopub.status.busy": "2023-10-15T18:44:04.852072Z",
     "iopub.status.idle": "2023-10-15T18:44:04.857428Z",
     "shell.execute_reply": "2023-10-15T18:44:04.856401Z"
    },
    "papermill": {
     "duration": 0.018656,
     "end_time": "2023-10-15T18:44:04.859327",
     "exception": false,
     "start_time": "2023-10-15T18:44:04.840671",
     "status": "completed"
    },
    "tags": []
   },
   "outputs": [],
   "source": [
    "def bar_chart_compare(dataset, feature1, feature2=None, title = \"Survival rate by sex and class'\"):\n",
    "    plt.figure(figsize = [5,5])\n",
    "    plt.title(title)\n",
    "    g = sns.barplot(x=feature1, y='Survived', hue=feature2, errorbar=None, data=dataset).set_ylabel('Survival rate')\n"
   ]
  },
  {
   "cell_type": "code",
   "execution_count": 23,
   "id": "bcc563e7",
   "metadata": {
    "execution": {
     "iopub.execute_input": "2023-10-15T18:44:04.881653Z",
     "iopub.status.busy": "2023-10-15T18:44:04.881258Z",
     "iopub.status.idle": "2023-10-15T18:44:05.162168Z",
     "shell.execute_reply": "2023-10-15T18:44:05.160976Z"
    },
    "papermill": {
     "duration": 0.294775,
     "end_time": "2023-10-15T18:44:05.164426",
     "exception": false,
     "start_time": "2023-10-15T18:44:04.869651",
     "status": "completed"
    },
    "tags": []
   },
   "outputs": [
    {
     "data": {
      "image/png": "[encoded data removed]",
      "text/plain": [
       "<Figure size 500x500 with 1 Axes>"
      ]
     },
     "metadata": {},
     "output_type": "display_data"
    }
   ],
   "source": [
    "bar_chart_compare(train_data,\"Pclass\", \"Sex\")"
   ]
  },
  {
   "cell_type": "code",
   "execution_count": 24,
   "id": "a61bcb65",
   "metadata": {
    "execution": {
     "iopub.execute_input": "2023-10-15T18:44:05.191098Z",
     "iopub.status.busy": "2023-10-15T18:44:05.190492Z",
     "iopub.status.idle": "2023-10-15T18:44:05.211392Z",
     "shell.execute_reply": "2023-10-15T18:44:05.210212Z"
    },
    "papermill": {
     "duration": 0.037826,
     "end_time": "2023-10-15T18:44:05.213521",
     "exception": false,
     "start_time": "2023-10-15T18:44:05.175695",
     "status": "completed"
    },
    "tags": []
   },
   "outputs": [
    {
     "data": {
      "text/html": [
       "<div>\n",
       "<style scoped>\n",
       "    .dataframe tbody tr th:only-of-type {\n",
       "        vertical-align: middle;\n",
       "    }\n",
       "\n",
       "    .dataframe tbody tr th {\n",
       "        vertical-align: top;\n",
       "    }\n",
       "\n",
       "    .dataframe thead tr th {\n",
       "        text-align: left;\n",
       "    }\n",
       "\n",
       "    .dataframe thead tr:last-of-type th {\n",
       "        text-align: right;\n",
       "    }\n",
       "</style>\n",
       "<table border=\"1\" class=\"dataframe\">\n",
       "  <thead>\n",
       "    <tr>\n",
       "      <th>Pclass</th>\n",
       "      <th colspan=\"2\" halign=\"left\">1</th>\n",
       "      <th colspan=\"2\" halign=\"left\">2</th>\n",
       "      <th colspan=\"2\" halign=\"left\">3</th>\n",
       "    </tr>\n",
       "    <tr>\n",
       "      <th>Sex</th>\n",
       "      <th>female</th>\n",
       "      <th>male</th>\n",
       "      <th>female</th>\n",
       "      <th>male</th>\n",
       "      <th>female</th>\n",
       "      <th>male</th>\n",
       "    </tr>\n",
       "    <tr>\n",
       "      <th>Survived</th>\n",
       "      <th></th>\n",
       "      <th></th>\n",
       "      <th></th>\n",
       "      <th></th>\n",
       "      <th></th>\n",
       "      <th></th>\n",
       "    </tr>\n",
       "  </thead>\n",
       "  <tbody>\n",
       "    <tr>\n",
       "      <th>0</th>\n",
       "      <td>3</td>\n",
       "      <td>77</td>\n",
       "      <td>6</td>\n",
       "      <td>91</td>\n",
       "      <td>72</td>\n",
       "      <td>300</td>\n",
       "    </tr>\n",
       "    <tr>\n",
       "      <th>1</th>\n",
       "      <td>91</td>\n",
       "      <td>45</td>\n",
       "      <td>70</td>\n",
       "      <td>17</td>\n",
       "      <td>72</td>\n",
       "      <td>47</td>\n",
       "    </tr>\n",
       "  </tbody>\n",
       "</table>\n",
       "</div>"
      ],
      "text/plain": [
       "Pclass        1           2           3     \n",
       "Sex      female male female male female male\n",
       "Survived                                    \n",
       "0             3   77      6   91     72  300\n",
       "1            91   45     70   17     72   47"
      ]
     },
     "execution_count": 24,
     "metadata": {},
     "output_type": "execute_result"
    }
   ],
   "source": [
    "pd.pivot_table(train_data, index =\"Survived\", columns = [\"Pclass\", \"Sex\"], values= \"Ticket\", aggfunc = \"count\" )"
   ]
  },
  {
   "cell_type": "code",
   "execution_count": 25,
   "id": "bcb4c40c",
   "metadata": {
    "execution": {
     "iopub.execute_input": "2023-10-15T18:44:05.237433Z",
     "iopub.status.busy": "2023-10-15T18:44:05.237007Z",
     "iopub.status.idle": "2023-10-15T18:44:05.247932Z",
     "shell.execute_reply": "2023-10-15T18:44:05.247051Z"
    },
    "papermill": {
     "duration": 0.025331,
     "end_time": "2023-10-15T18:44:05.249926",
     "exception": false,
     "start_time": "2023-10-15T18:44:05.224595",
     "status": "completed"
    },
    "tags": []
   },
   "outputs": [
    {
     "data": {
      "text/html": [
       "<div>\n",
       "<style scoped>\n",
       "    .dataframe tbody tr th:only-of-type {\n",
       "        vertical-align: middle;\n",
       "    }\n",
       "\n",
       "    .dataframe tbody tr th {\n",
       "        vertical-align: top;\n",
       "    }\n",
       "\n",
       "    .dataframe thead th {\n",
       "        text-align: right;\n",
       "    }\n",
       "</style>\n",
       "<table border=\"1\" class=\"dataframe\">\n",
       "  <thead>\n",
       "    <tr style=\"text-align: right;\">\n",
       "      <th></th>\n",
       "      <th></th>\n",
       "      <th>Survived</th>\n",
       "    </tr>\n",
       "    <tr>\n",
       "      <th>Pclass</th>\n",
       "      <th>Sex</th>\n",
       "      <th></th>\n",
       "    </tr>\n",
       "  </thead>\n",
       "  <tbody>\n",
       "    <tr>\n",
       "      <th rowspan=\"2\" valign=\"top\">1</th>\n",
       "      <th>female</th>\n",
       "      <td>0.968085</td>\n",
       "    </tr>\n",
       "    <tr>\n",
       "      <th>male</th>\n",
       "      <td>0.368852</td>\n",
       "    </tr>\n",
       "    <tr>\n",
       "      <th rowspan=\"2\" valign=\"top\">2</th>\n",
       "      <th>female</th>\n",
       "      <td>0.921053</td>\n",
       "    </tr>\n",
       "    <tr>\n",
       "      <th>male</th>\n",
       "      <td>0.157407</td>\n",
       "    </tr>\n",
       "    <tr>\n",
       "      <th rowspan=\"2\" valign=\"top\">3</th>\n",
       "      <th>female</th>\n",
       "      <td>0.500000</td>\n",
       "    </tr>\n",
       "    <tr>\n",
       "      <th>male</th>\n",
       "      <td>0.135447</td>\n",
       "    </tr>\n",
       "  </tbody>\n",
       "</table>\n",
       "</div>"
      ],
      "text/plain": [
       "               Survived\n",
       "Pclass Sex             \n",
       "1      female  0.968085\n",
       "       male    0.368852\n",
       "2      female  0.921053\n",
       "       male    0.157407\n",
       "3      female  0.500000\n",
       "       male    0.135447"
      ]
     },
     "execution_count": 25,
     "metadata": {},
     "output_type": "execute_result"
    }
   ],
   "source": [
    "train_data.groupby([\"Pclass\",\"Sex\"]).Survived.mean().to_frame()"
   ]
  },
  {
   "cell_type": "markdown",
   "id": "cb4c62ab",
   "metadata": {
    "papermill": {
     "duration": 0.010701,
     "end_time": "2023-10-15T18:44:05.271681",
     "exception": false,
     "start_time": "2023-10-15T18:44:05.260980",
     "status": "completed"
    },
    "tags": []
   },
   "source": [
    "### Observations;\n",
    "\n",
    "Here, we can clearly see that the question was justified. Irrespective of the class the most important factor when it comes to surviving was gender. (At least between Sex and Pclass) However, men in class 1 had a significantly higher chance of survival when they bought class 1 tickets. This just shows to say that we should keep both features as both yield insightful information that should help our model.\n",
    "\n",
    "   - Survival Rate females 1. Class: 96,8%\n",
    "\n",
    "   - Survival Rate females 2. Class: 92,1%\n",
    "\n",
    "   - Survival Rate females 3. Class: 50%\n",
    "\n",
    "   - Survival Rate male 1. Class: 36.8%\n",
    "     (still significantly lower than 3. class females)\n"
   ]
  },
  {
   "cell_type": "code",
   "execution_count": null,
   "id": "92198f02",
   "metadata": {
    "papermill": {
     "duration": 0.010742,
     "end_time": "2023-10-15T18:44:05.293639",
     "exception": false,
     "start_time": "2023-10-15T18:44:05.282897",
     "status": "completed"
    },
    "tags": []
   },
   "outputs": [],
   "source": []
  },
  {
   "cell_type": "code",
   "execution_count": null,
   "id": "5f8c5aa8",
   "metadata": {
    "papermill": {
     "duration": 0.010628,
     "end_time": "2023-10-15T18:44:05.315179",
     "exception": false,
     "start_time": "2023-10-15T18:44:05.304551",
     "status": "completed"
    },
    "tags": []
   },
   "outputs": [],
   "source": []
  },
  {
   "cell_type": "code",
   "execution_count": null,
   "id": "566d9766",
   "metadata": {
    "papermill": {
     "duration": 0.010715,
     "end_time": "2023-10-15T18:44:05.340423",
     "exception": false,
     "start_time": "2023-10-15T18:44:05.329708",
     "status": "completed"
    },
    "tags": []
   },
   "outputs": [],
   "source": []
  },
  {
   "cell_type": "code",
   "execution_count": 26,
   "id": "770beace",
   "metadata": {
    "execution": {
     "iopub.execute_input": "2023-10-15T18:44:05.364162Z",
     "iopub.status.busy": "2023-10-15T18:44:05.363767Z",
     "iopub.status.idle": "2023-10-15T18:44:05.547164Z",
     "shell.execute_reply": "2023-10-15T18:44:05.546074Z"
    },
    "papermill": {
     "duration": 0.197908,
     "end_time": "2023-10-15T18:44:05.549384",
     "exception": false,
     "start_time": "2023-10-15T18:44:05.351476",
     "status": "completed"
    },
    "tags": []
   },
   "outputs": [
    {
     "name": "stdout",
     "output_type": "stream",
     "text": [
      "You submission was successfully saved\n"
     ]
    }
   ],
   "source": [
    "from sklearn.ensemble import RandomForestClassifier\n",
    "y = train_data[\"Survived\"]\n",
    "features = [\"Pclass\", \"Sex\", \"SibSp\", \"Parch\"]\n",
    "X = pd.get_dummies(train_data[features])\n",
    "X_test = pd.get_dummies(test_data[features])\n",
    "\n",
    "model = RandomForestClassifier(n_estimators =100, max_depth =5, random_state=1)\n",
    "model.fit(X,y)\n",
    "predictions = model.predict(X_test)\n",
    "output = pd.DataFrame({\"PassengerId\": test_data.PassengerId, \"Survived\": predictions})\n",
    "print (\"You submission was successfully saved\")"
   ]
  }
 ],
 "metadata": {
  "kernelspec": {
   "display_name": "Python 3",
   "language": "python",
   "name": "python3"
  },
  "language_info": {
   "codemirror_mode": {
    "name": "ipython",
    "version": 3
   },
   "file_extension": ".py",
   "mimetype": "text/x-python",
   "name": "python",
   "nbconvert_exporter": "python",
   "pygments_lexer": "ipython3",
   "version": "3.10.12"
  },
  "papermill": {
   "default_parameters": {},
   "duration": 9.313933,
   "end_time": "2023-10-15T18:44:06.180125",
   "environment_variables": {},
   "exception": null,
   "input_path": "__notebook__.ipynb",
   "output_path": "__notebook__.ipynb",
   "parameters": {},
   "start_time": "2023-10-15T18:43:56.866192",
   "version": "2.4.0"
  }
 },
 "nbformat": 4,
 "nbformat_minor": 5
}
